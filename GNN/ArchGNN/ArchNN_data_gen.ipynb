{
 "cells": [
  {
   "cell_type": "code",
   "execution_count": 7,
   "metadata": {},
   "outputs": [],
   "source": [
    "#TxtFile to lists\n",
    "import numpy as np \n",
    "import matplotlib.pyplot as plt\n",
    "\n",
    "#data = np.loadtxt('C:\\\\Users\\\\eliasak\\\\OneDrive - NTNU\\\\Master thesis\\\\07_ML\\\\ArchGNN\\\\data.txt')\n",
    "\n",
    "values_list = []  # create an empty list to store the values for each row\n",
    "x = []\n",
    "z = []\n",
    "m = []\n",
    "l = []\n",
    "\n",
    "with open('data.txt', \"r\") as f:\n",
    "    for line in f:  # loop over each line in the file\n",
    "        values = line.strip().split(\"\\t\")  # split the line into a list of strings\n",
    "\n",
    "        xL = []\n",
    "        zL = []\n",
    "        mL = []\n",
    "        lL = []\n",
    "\n",
    "        for i in range(20):\n",
    "            xL.append(round(float(values[i]),3))\n",
    "            zL.append(round(float(values[i+20]),3))\n",
    "            mL.append(round(float(values[i+20*2]),3))\n",
    "            try:\n",
    "                lL.append(round(float(values[i+20*3]),3))\n",
    "            except:\n",
    "                None\n",
    "        x.append(xL)\n",
    "        z.append(zL)\n",
    "        m.append(mL)\n",
    "        l.append(lL)\n",
    "\n",
    "\n",
    "dataY = []\n",
    "\n",
    "dataX = []\n",
    "for i in range(len(x)):\n",
    "    dataXs = []\n",
    "    for j in range(0,len(x[i])):\n",
    "        dataX0 = []\n",
    "        dataX0.append(j)\n",
    "        dataX0.append(x[i][j])\n",
    "        dataX0.append(z[i][j])\n",
    "        dataXs.append(dataX0)\n",
    "    dataX.append(dataXs)\n",
    "\n",
    "dataX = np.array(dataX)\n",
    "dataY = np.array(m)\n",
    "\n",
    "dataEgdeIndex = []\n",
    "for i in range(len(x[0])-1):\n",
    "    dataEgdeIndex.append([i,i+1])\n",
    "    dataEgdeIndex.append([i+1,i])  \n",
    "\n",
    "dataEgdeIndex = np.array(dataEgdeIndex) \n",
    "dataEgdeIndex =np.transpose(dataEgdeIndex)\n",
    "\n",
    "\n",
    "input_data = dataX\n",
    "target_data = dataY\n",
    "edge_index = dataEgdeIndex\n"
   ]
  },
  {
   "cell_type": "code",
   "execution_count": 17,
   "metadata": {},
   "outputs": [
    {
     "name": "stdout",
     "output_type": "stream",
     "text": [
      "[[ 0  1  1  2  2  3  3  4  4  5  5  6  6  7  7  8  8  9  9 10 10 11 11 12\n",
      "  12 13 13 14 14 15 15 16 16 17 17 18 18 19]\n",
      " [ 1  0  2  1  3  2  4  3  5  4  6  5  7  6  8  7  9  8 10  9 11 10 12 11\n",
      "  13 12 14 13 15 14 16 15 17 16 18 17 19 18]]\n"
     ]
    }
   ],
   "source": [
    "#print(input_data)\n",
    "#print(target_data)\n",
    "print(edge_index)\n"
   ]
  },
  {
   "cell_type": "code",
   "execution_count": 8,
   "metadata": {},
   "outputs": [
    {
     "name": "stdout",
     "output_type": "stream",
     "text": [
      "(286, 20, 3)\n",
      "(286, 20)\n",
      "(2, 38)\n",
      "[[ 0  1  1  2  2  3  3  4  4  5  5  6  6  7  7  8  8  9  9 10 10 11 11 12\n",
      "  12 13 13 14 14 15 15 16 16 17 17 18 18 19]\n",
      " [ 1  0  2  1  3  2  4  3  5  4  6  5  7  6  8  7  9  8 10  9 11 10 12 11\n",
      "  13 12 14 13 15 14 16 15 17 16 18 17 19 18]]\n",
      "[Data(x=[20, 3], edge_index=[2, 38], edge_attr=[20]), Data(x=[20, 3], edge_index=[2, 38], edge_attr=[20]), Data(x=[20, 3], edge_index=[2, 38], edge_attr=[20]), Data(x=[20, 3], edge_index=[2, 38], edge_attr=[20]), Data(x=[20, 3], edge_index=[2, 38], edge_attr=[20]), Data(x=[20, 3], edge_index=[2, 38], edge_attr=[20]), Data(x=[20, 3], edge_index=[2, 38], edge_attr=[20]), Data(x=[20, 3], edge_index=[2, 38], edge_attr=[20]), Data(x=[20, 3], edge_index=[2, 38], edge_attr=[20]), Data(x=[20, 3], edge_index=[2, 38], edge_attr=[20]), Data(x=[20, 3], edge_index=[2, 38], edge_attr=[20]), Data(x=[20, 3], edge_index=[2, 38], edge_attr=[20]), Data(x=[20, 3], edge_index=[2, 38], edge_attr=[20]), Data(x=[20, 3], edge_index=[2, 38], edge_attr=[20]), Data(x=[20, 3], edge_index=[2, 38], edge_attr=[20]), Data(x=[20, 3], edge_index=[2, 38], edge_attr=[20]), Data(x=[20, 3], edge_index=[2, 38], edge_attr=[20]), Data(x=[20, 3], edge_index=[2, 38], edge_attr=[20]), Data(x=[20, 3], edge_index=[2, 38], edge_attr=[20]), Data(x=[20, 3], edge_index=[2, 38], edge_attr=[20]), Data(x=[20, 3], edge_index=[2, 38], edge_attr=[20]), Data(x=[20, 3], edge_index=[2, 38], edge_attr=[20]), Data(x=[20, 3], edge_index=[2, 38], edge_attr=[20]), Data(x=[20, 3], edge_index=[2, 38], edge_attr=[20]), Data(x=[20, 3], edge_index=[2, 38], edge_attr=[20]), Data(x=[20, 3], edge_index=[2, 38], edge_attr=[20]), Data(x=[20, 3], edge_index=[2, 38], edge_attr=[20]), Data(x=[20, 3], edge_index=[2, 38], edge_attr=[20]), Data(x=[20, 3], edge_index=[2, 38], edge_attr=[20]), Data(x=[20, 3], edge_index=[2, 38], edge_attr=[20]), Data(x=[20, 3], edge_index=[2, 38], edge_attr=[20]), Data(x=[20, 3], edge_index=[2, 38], edge_attr=[20]), Data(x=[20, 3], edge_index=[2, 38], edge_attr=[20]), Data(x=[20, 3], edge_index=[2, 38], edge_attr=[20]), Data(x=[20, 3], edge_index=[2, 38], edge_attr=[20]), Data(x=[20, 3], edge_index=[2, 38], edge_attr=[20]), Data(x=[20, 3], edge_index=[2, 38], edge_attr=[20]), Data(x=[20, 3], edge_index=[2, 38], edge_attr=[20]), Data(x=[20, 3], edge_index=[2, 38], edge_attr=[20]), Data(x=[20, 3], edge_index=[2, 38], edge_attr=[20]), Data(x=[20, 3], edge_index=[2, 38], edge_attr=[20]), Data(x=[20, 3], edge_index=[2, 38], edge_attr=[20]), Data(x=[20, 3], edge_index=[2, 38], edge_attr=[20]), Data(x=[20, 3], edge_index=[2, 38], edge_attr=[20]), Data(x=[20, 3], edge_index=[2, 38], edge_attr=[20]), Data(x=[20, 3], edge_index=[2, 38], edge_attr=[20]), Data(x=[20, 3], edge_index=[2, 38], edge_attr=[20]), Data(x=[20, 3], edge_index=[2, 38], edge_attr=[20]), Data(x=[20, 3], edge_index=[2, 38], edge_attr=[20]), Data(x=[20, 3], edge_index=[2, 38], edge_attr=[20]), Data(x=[20, 3], edge_index=[2, 38], edge_attr=[20]), Data(x=[20, 3], edge_index=[2, 38], edge_attr=[20]), Data(x=[20, 3], edge_index=[2, 38], edge_attr=[20]), Data(x=[20, 3], edge_index=[2, 38], edge_attr=[20]), Data(x=[20, 3], edge_index=[2, 38], edge_attr=[20]), Data(x=[20, 3], edge_index=[2, 38], edge_attr=[20]), Data(x=[20, 3], edge_index=[2, 38], edge_attr=[20]), Data(x=[20, 3], edge_index=[2, 38], edge_attr=[20]), Data(x=[20, 3], edge_index=[2, 38], edge_attr=[20]), Data(x=[20, 3], edge_index=[2, 38], edge_attr=[20]), Data(x=[20, 3], edge_index=[2, 38], edge_attr=[20]), Data(x=[20, 3], edge_index=[2, 38], edge_attr=[20]), Data(x=[20, 3], edge_index=[2, 38], edge_attr=[20]), Data(x=[20, 3], edge_index=[2, 38], edge_attr=[20]), Data(x=[20, 3], edge_index=[2, 38], edge_attr=[20]), Data(x=[20, 3], edge_index=[2, 38], edge_attr=[20]), Data(x=[20, 3], edge_index=[2, 38], edge_attr=[20]), Data(x=[20, 3], edge_index=[2, 38], edge_attr=[20]), Data(x=[20, 3], edge_index=[2, 38], edge_attr=[20]), Data(x=[20, 3], edge_index=[2, 38], edge_attr=[20]), Data(x=[20, 3], edge_index=[2, 38], edge_attr=[20]), Data(x=[20, 3], edge_index=[2, 38], edge_attr=[20]), Data(x=[20, 3], edge_index=[2, 38], edge_attr=[20]), Data(x=[20, 3], edge_index=[2, 38], edge_attr=[20]), Data(x=[20, 3], edge_index=[2, 38], edge_attr=[20]), Data(x=[20, 3], edge_index=[2, 38], edge_attr=[20]), Data(x=[20, 3], edge_index=[2, 38], edge_attr=[20]), Data(x=[20, 3], edge_index=[2, 38], edge_attr=[20]), Data(x=[20, 3], edge_index=[2, 38], edge_attr=[20]), Data(x=[20, 3], edge_index=[2, 38], edge_attr=[20]), Data(x=[20, 3], edge_index=[2, 38], edge_attr=[20]), Data(x=[20, 3], edge_index=[2, 38], edge_attr=[20]), Data(x=[20, 3], edge_index=[2, 38], edge_attr=[20]), Data(x=[20, 3], edge_index=[2, 38], edge_attr=[20]), Data(x=[20, 3], edge_index=[2, 38], edge_attr=[20]), Data(x=[20, 3], edge_index=[2, 38], edge_attr=[20]), Data(x=[20, 3], edge_index=[2, 38], edge_attr=[20]), Data(x=[20, 3], edge_index=[2, 38], edge_attr=[20]), Data(x=[20, 3], edge_index=[2, 38], edge_attr=[20]), Data(x=[20, 3], edge_index=[2, 38], edge_attr=[20]), Data(x=[20, 3], edge_index=[2, 38], edge_attr=[20]), Data(x=[20, 3], edge_index=[2, 38], edge_attr=[20]), Data(x=[20, 3], edge_index=[2, 38], edge_attr=[20]), Data(x=[20, 3], edge_index=[2, 38], edge_attr=[20]), Data(x=[20, 3], edge_index=[2, 38], edge_attr=[20]), Data(x=[20, 3], edge_index=[2, 38], edge_attr=[20]), Data(x=[20, 3], edge_index=[2, 38], edge_attr=[20]), Data(x=[20, 3], edge_index=[2, 38], edge_attr=[20]), Data(x=[20, 3], edge_index=[2, 38], edge_attr=[20]), Data(x=[20, 3], edge_index=[2, 38], edge_attr=[20]), Data(x=[20, 3], edge_index=[2, 38], edge_attr=[20]), Data(x=[20, 3], edge_index=[2, 38], edge_attr=[20]), Data(x=[20, 3], edge_index=[2, 38], edge_attr=[20]), Data(x=[20, 3], edge_index=[2, 38], edge_attr=[20]), Data(x=[20, 3], edge_index=[2, 38], edge_attr=[20]), Data(x=[20, 3], edge_index=[2, 38], edge_attr=[20]), Data(x=[20, 3], edge_index=[2, 38], edge_attr=[20]), Data(x=[20, 3], edge_index=[2, 38], edge_attr=[20]), Data(x=[20, 3], edge_index=[2, 38], edge_attr=[20]), Data(x=[20, 3], edge_index=[2, 38], edge_attr=[20]), Data(x=[20, 3], edge_index=[2, 38], edge_attr=[20]), Data(x=[20, 3], edge_index=[2, 38], edge_attr=[20]), Data(x=[20, 3], edge_index=[2, 38], edge_attr=[20]), Data(x=[20, 3], edge_index=[2, 38], edge_attr=[20]), Data(x=[20, 3], edge_index=[2, 38], edge_attr=[20]), Data(x=[20, 3], edge_index=[2, 38], edge_attr=[20]), Data(x=[20, 3], edge_index=[2, 38], edge_attr=[20]), Data(x=[20, 3], edge_index=[2, 38], edge_attr=[20]), Data(x=[20, 3], edge_index=[2, 38], edge_attr=[20]), Data(x=[20, 3], edge_index=[2, 38], edge_attr=[20]), Data(x=[20, 3], edge_index=[2, 38], edge_attr=[20]), Data(x=[20, 3], edge_index=[2, 38], edge_attr=[20]), Data(x=[20, 3], edge_index=[2, 38], edge_attr=[20]), Data(x=[20, 3], edge_index=[2, 38], edge_attr=[20]), Data(x=[20, 3], edge_index=[2, 38], edge_attr=[20]), Data(x=[20, 3], edge_index=[2, 38], edge_attr=[20]), Data(x=[20, 3], edge_index=[2, 38], edge_attr=[20]), Data(x=[20, 3], edge_index=[2, 38], edge_attr=[20]), Data(x=[20, 3], edge_index=[2, 38], edge_attr=[20]), Data(x=[20, 3], edge_index=[2, 38], edge_attr=[20]), Data(x=[20, 3], edge_index=[2, 38], edge_attr=[20]), Data(x=[20, 3], edge_index=[2, 38], edge_attr=[20]), Data(x=[20, 3], edge_index=[2, 38], edge_attr=[20]), Data(x=[20, 3], edge_index=[2, 38], edge_attr=[20]), Data(x=[20, 3], edge_index=[2, 38], edge_attr=[20]), Data(x=[20, 3], edge_index=[2, 38], edge_attr=[20]), Data(x=[20, 3], edge_index=[2, 38], edge_attr=[20]), Data(x=[20, 3], edge_index=[2, 38], edge_attr=[20]), Data(x=[20, 3], edge_index=[2, 38], edge_attr=[20]), Data(x=[20, 3], edge_index=[2, 38], edge_attr=[20]), Data(x=[20, 3], edge_index=[2, 38], edge_attr=[20]), Data(x=[20, 3], edge_index=[2, 38], edge_attr=[20]), Data(x=[20, 3], edge_index=[2, 38], edge_attr=[20]), Data(x=[20, 3], edge_index=[2, 38], edge_attr=[20]), Data(x=[20, 3], edge_index=[2, 38], edge_attr=[20]), Data(x=[20, 3], edge_index=[2, 38], edge_attr=[20]), Data(x=[20, 3], edge_index=[2, 38], edge_attr=[20]), Data(x=[20, 3], edge_index=[2, 38], edge_attr=[20]), Data(x=[20, 3], edge_index=[2, 38], edge_attr=[20]), Data(x=[20, 3], edge_index=[2, 38], edge_attr=[20]), Data(x=[20, 3], edge_index=[2, 38], edge_attr=[20]), Data(x=[20, 3], edge_index=[2, 38], edge_attr=[20]), Data(x=[20, 3], edge_index=[2, 38], edge_attr=[20]), Data(x=[20, 3], edge_index=[2, 38], edge_attr=[20]), Data(x=[20, 3], edge_index=[2, 38], edge_attr=[20]), Data(x=[20, 3], edge_index=[2, 38], edge_attr=[20]), Data(x=[20, 3], edge_index=[2, 38], edge_attr=[20]), Data(x=[20, 3], edge_index=[2, 38], edge_attr=[20]), Data(x=[20, 3], edge_index=[2, 38], edge_attr=[20]), Data(x=[20, 3], edge_index=[2, 38], edge_attr=[20]), Data(x=[20, 3], edge_index=[2, 38], edge_attr=[20]), Data(x=[20, 3], edge_index=[2, 38], edge_attr=[20]), Data(x=[20, 3], edge_index=[2, 38], edge_attr=[20]), Data(x=[20, 3], edge_index=[2, 38], edge_attr=[20]), Data(x=[20, 3], edge_index=[2, 38], edge_attr=[20]), Data(x=[20, 3], edge_index=[2, 38], edge_attr=[20]), Data(x=[20, 3], edge_index=[2, 38], edge_attr=[20]), Data(x=[20, 3], edge_index=[2, 38], edge_attr=[20]), Data(x=[20, 3], edge_index=[2, 38], edge_attr=[20]), Data(x=[20, 3], edge_index=[2, 38], edge_attr=[20]), Data(x=[20, 3], edge_index=[2, 38], edge_attr=[20]), Data(x=[20, 3], edge_index=[2, 38], edge_attr=[20]), Data(x=[20, 3], edge_index=[2, 38], edge_attr=[20]), Data(x=[20, 3], edge_index=[2, 38], edge_attr=[20]), Data(x=[20, 3], edge_index=[2, 38], edge_attr=[20]), Data(x=[20, 3], edge_index=[2, 38], edge_attr=[20]), Data(x=[20, 3], edge_index=[2, 38], edge_attr=[20]), Data(x=[20, 3], edge_index=[2, 38], edge_attr=[20]), Data(x=[20, 3], edge_index=[2, 38], edge_attr=[20]), Data(x=[20, 3], edge_index=[2, 38], edge_attr=[20]), Data(x=[20, 3], edge_index=[2, 38], edge_attr=[20]), Data(x=[20, 3], edge_index=[2, 38], edge_attr=[20]), Data(x=[20, 3], edge_index=[2, 38], edge_attr=[20]), Data(x=[20, 3], edge_index=[2, 38], edge_attr=[20]), Data(x=[20, 3], edge_index=[2, 38], edge_attr=[20]), Data(x=[20, 3], edge_index=[2, 38], edge_attr=[20]), Data(x=[20, 3], edge_index=[2, 38], edge_attr=[20]), Data(x=[20, 3], edge_index=[2, 38], edge_attr=[20]), Data(x=[20, 3], edge_index=[2, 38], edge_attr=[20]), Data(x=[20, 3], edge_index=[2, 38], edge_attr=[20]), Data(x=[20, 3], edge_index=[2, 38], edge_attr=[20]), Data(x=[20, 3], edge_index=[2, 38], edge_attr=[20]), Data(x=[20, 3], edge_index=[2, 38], edge_attr=[20]), Data(x=[20, 3], edge_index=[2, 38], edge_attr=[20]), Data(x=[20, 3], edge_index=[2, 38], edge_attr=[20]), Data(x=[20, 3], edge_index=[2, 38], edge_attr=[20]), Data(x=[20, 3], edge_index=[2, 38], edge_attr=[20]), Data(x=[20, 3], edge_index=[2, 38], edge_attr=[20]), Data(x=[20, 3], edge_index=[2, 38], edge_attr=[20]), Data(x=[20, 3], edge_index=[2, 38], edge_attr=[20]), Data(x=[20, 3], edge_index=[2, 38], edge_attr=[20]), Data(x=[20, 3], edge_index=[2, 38], edge_attr=[20]), Data(x=[20, 3], edge_index=[2, 38], edge_attr=[20]), Data(x=[20, 3], edge_index=[2, 38], edge_attr=[20]), Data(x=[20, 3], edge_index=[2, 38], edge_attr=[20]), Data(x=[20, 3], edge_index=[2, 38], edge_attr=[20]), Data(x=[20, 3], edge_index=[2, 38], edge_attr=[20]), Data(x=[20, 3], edge_index=[2, 38], edge_attr=[20]), Data(x=[20, 3], edge_index=[2, 38], edge_attr=[20]), Data(x=[20, 3], edge_index=[2, 38], edge_attr=[20]), Data(x=[20, 3], edge_index=[2, 38], edge_attr=[20]), Data(x=[20, 3], edge_index=[2, 38], edge_attr=[20]), Data(x=[20, 3], edge_index=[2, 38], edge_attr=[20]), Data(x=[20, 3], edge_index=[2, 38], edge_attr=[20]), Data(x=[20, 3], edge_index=[2, 38], edge_attr=[20]), Data(x=[20, 3], edge_index=[2, 38], edge_attr=[20]), Data(x=[20, 3], edge_index=[2, 38], edge_attr=[20]), Data(x=[20, 3], edge_index=[2, 38], edge_attr=[20]), Data(x=[20, 3], edge_index=[2, 38], edge_attr=[20]), Data(x=[20, 3], edge_index=[2, 38], edge_attr=[20]), Data(x=[20, 3], edge_index=[2, 38], edge_attr=[20]), Data(x=[20, 3], edge_index=[2, 38], edge_attr=[20]), Data(x=[20, 3], edge_index=[2, 38], edge_attr=[20]), Data(x=[20, 3], edge_index=[2, 38], edge_attr=[20]), Data(x=[20, 3], edge_index=[2, 38], edge_attr=[20]), Data(x=[20, 3], edge_index=[2, 38], edge_attr=[20]), Data(x=[20, 3], edge_index=[2, 38], edge_attr=[20]), Data(x=[20, 3], edge_index=[2, 38], edge_attr=[20]), Data(x=[20, 3], edge_index=[2, 38], edge_attr=[20]), Data(x=[20, 3], edge_index=[2, 38], edge_attr=[20]), Data(x=[20, 3], edge_index=[2, 38], edge_attr=[20]), Data(x=[20, 3], edge_index=[2, 38], edge_attr=[20]), Data(x=[20, 3], edge_index=[2, 38], edge_attr=[20]), Data(x=[20, 3], edge_index=[2, 38], edge_attr=[20]), Data(x=[20, 3], edge_index=[2, 38], edge_attr=[20]), Data(x=[20, 3], edge_index=[2, 38], edge_attr=[20]), Data(x=[20, 3], edge_index=[2, 38], edge_attr=[20]), Data(x=[20, 3], edge_index=[2, 38], edge_attr=[20]), Data(x=[20, 3], edge_index=[2, 38], edge_attr=[20]), Data(x=[20, 3], edge_index=[2, 38], edge_attr=[20]), Data(x=[20, 3], edge_index=[2, 38], edge_attr=[20]), Data(x=[20, 3], edge_index=[2, 38], edge_attr=[20]), Data(x=[20, 3], edge_index=[2, 38], edge_attr=[20]), Data(x=[20, 3], edge_index=[2, 38], edge_attr=[20]), Data(x=[20, 3], edge_index=[2, 38], edge_attr=[20]), Data(x=[20, 3], edge_index=[2, 38], edge_attr=[20]), Data(x=[20, 3], edge_index=[2, 38], edge_attr=[20]), Data(x=[20, 3], edge_index=[2, 38], edge_attr=[20]), Data(x=[20, 3], edge_index=[2, 38], edge_attr=[20]), Data(x=[20, 3], edge_index=[2, 38], edge_attr=[20]), Data(x=[20, 3], edge_index=[2, 38], edge_attr=[20]), Data(x=[20, 3], edge_index=[2, 38], edge_attr=[20]), Data(x=[20, 3], edge_index=[2, 38], edge_attr=[20]), Data(x=[20, 3], edge_index=[2, 38], edge_attr=[20]), Data(x=[20, 3], edge_index=[2, 38], edge_attr=[20]), Data(x=[20, 3], edge_index=[2, 38], edge_attr=[20]), Data(x=[20, 3], edge_index=[2, 38], edge_attr=[20]), Data(x=[20, 3], edge_index=[2, 38], edge_attr=[20]), Data(x=[20, 3], edge_index=[2, 38], edge_attr=[20]), Data(x=[20, 3], edge_index=[2, 38], edge_attr=[20]), Data(x=[20, 3], edge_index=[2, 38], edge_attr=[20]), Data(x=[20, 3], edge_index=[2, 38], edge_attr=[20]), Data(x=[20, 3], edge_index=[2, 38], edge_attr=[20]), Data(x=[20, 3], edge_index=[2, 38], edge_attr=[20]), Data(x=[20, 3], edge_index=[2, 38], edge_attr=[20]), Data(x=[20, 3], edge_index=[2, 38], edge_attr=[20]), Data(x=[20, 3], edge_index=[2, 38], edge_attr=[20]), Data(x=[20, 3], edge_index=[2, 38], edge_attr=[20]), Data(x=[20, 3], edge_index=[2, 38], edge_attr=[20]), Data(x=[20, 3], edge_index=[2, 38], edge_attr=[20]), Data(x=[20, 3], edge_index=[2, 38], edge_attr=[20]), Data(x=[20, 3], edge_index=[2, 38], edge_attr=[20]), Data(x=[20, 3], edge_index=[2, 38], edge_attr=[20]), Data(x=[20, 3], edge_index=[2, 38], edge_attr=[20]), Data(x=[20, 3], edge_index=[2, 38], edge_attr=[20]), Data(x=[20, 3], edge_index=[2, 38], edge_attr=[20]), Data(x=[20, 3], edge_index=[2, 38], edge_attr=[20]), Data(x=[20, 3], edge_index=[2, 38], edge_attr=[20]), Data(x=[20, 3], edge_index=[2, 38], edge_attr=[20]), Data(x=[20, 3], edge_index=[2, 38], edge_attr=[20]), Data(x=[20, 3], edge_index=[2, 38], edge_attr=[20]), Data(x=[20, 3], edge_index=[2, 38], edge_attr=[20]), Data(x=[20, 3], edge_index=[2, 38], edge_attr=[20]), Data(x=[20, 3], edge_index=[2, 38], edge_attr=[20]), Data(x=[20, 3], edge_index=[2, 38], edge_attr=[20]), Data(x=[20, 3], edge_index=[2, 38], edge_attr=[20])]\n"
     ]
    }
   ],
   "source": [
    "print(dataX.shape)\n",
    "print(dataY.shape)\n",
    "print(edge_index.shape)\n",
    "print(edge_index)\n",
    "\n",
    "from torch_geometric.data import Dataset, Data\n",
    "import torch\n",
    "dataset = []\n",
    "for i in range(dataX.shape[0]):\n",
    "    dataset.append(Data(dataX[i], edge_index, dataY[i]))\n",
    "\n",
    "print(dataset)"
   ]
  },
  {
   "cell_type": "code",
   "execution_count": 9,
   "metadata": {},
   "outputs": [],
   "source": [
    "import torch\n",
    "from torch_geometric.data import Dataset, Data\n",
    "from torch_geometric.data import DataLoader\n",
    "from torch.utils.data import DataLoader\n",
    "import os\n",
    "\n",
    "\n",
    "\n",
    "class ArchDataset(torch.utils.data.Dataset):\n",
    "    def __init__(self, input_data, edge_index, target_data, scenario_ids):\n",
    "        self.input_data = input_data\n",
    "        self.edge_index = edge_index\n",
    "        self.target_data = target_data\n",
    "        self.scenario_ids = scenario_ids\n",
    "\n",
    "    def __getitem__(self, index):\n",
    "        node_features = torch.tensor(self.input_data[self.scenario_ids[index]], dtype=torch.float)\n",
    "        edge_index = torch.tensor(self.edge_index, dtype=torch.long)\n",
    "        y = torch.tensor(self.target_data[self.scenario_ids[index]], dtype=torch.float)\n",
    "        data = Data(x=node_features, edge_index=edge_index, y=y)\n",
    "        return data\n",
    "\n",
    "    def __len__(self):\n",
    "        return len(self.scenario_ids)\n",
    "    \n",
    "num_scenarios = len(input_data)\n",
    "datasets = []\n",
    "for i in range(num_scenarios):\n",
    "    dataset = ArchDataset(input_data, edge_index , target_data, [i] * len(input_data))\n",
    "    datasets.append(dataset)\n",
    "\n",
    "# Split into train and test sets\n",
    "train_dataset = torch.utils.data.ConcatDataset(datasets[:num_scenarios//2])\n",
    "test_dataset = torch.utils.data.ConcatDataset(datasets[num_scenarios//2:])\n",
    "\n",
    "# Define data loaders\n",
    "train_loader = DataLoader(train_dataset, batch_size=32, shuffle=True)\n",
    "test_loader = DataLoader(test_dataset, batch_size=32)\n",
    "\n",
    "\n",
    "\n",
    "\n",
    "#train_features, train_labels = next(iter(train_loader))\n",
    "#print(f\"Feature batch shape: {train_features.size()}\")\n",
    "#print(f\"Labels batch shape: {train_labels.size()}\")\n"
   ]
  },
  {
   "cell_type": "code",
   "execution_count": 10,
   "metadata": {},
   "outputs": [
    {
     "name": "stdout",
     "output_type": "stream",
     "text": [
      "40898\n"
     ]
    }
   ],
   "source": [
    "print(len(train_dataset))\n"
   ]
  },
  {
   "cell_type": "code",
   "execution_count": 11,
   "metadata": {},
   "outputs": [],
   "source": [
    "import torch\n",
    "import torch.nn.functional as F\n",
    "from torch_geometric.nn import MessagePassing\n",
    "from torch_geometric.utils import add_self_loops, degree\n",
    "\n",
    "class GNN(MessagePassing):\n",
    "    def __init__(self):\n",
    "        super(GNN, self).__init__(aggr='mean')\n",
    "        self.lin1 = torch.nn.Linear(3, 16)\n",
    "        self.lin2 = torch.nn.Linear(16, 1)\n",
    "\n",
    "    def forward(self, x, edge_index):\n",
    "        x = self.lin1(x)\n",
    "        x = F.relu(x)\n",
    "        edge_index, _ = add_self_loops(edge_index, num_nodes=x.size(0))\n",
    "        deg = degree(edge_index, x.size(0), dtype=x.dtype)\n",
    "        deg_inv_sqrt = deg.pow(-0.5)\n",
    "        norm = deg_inv_sqrt[edge_index[1]] * deg_inv_sqrt[edge_index[0]]\n",
    "        x = self.propagate(edge_index, x=x, norm=norm)\n",
    "        x = self.lin2(x)\n",
    "        return x\n",
    "\n",
    "    def message(self, x_j, norm):\n",
    "        return norm.view(-1, 1) * x_j\n",
    "\n",
    "    def update(self, aggr_out):\n",
    "        return aggr_out"
   ]
  },
  {
   "cell_type": "code",
   "execution_count": 19,
   "metadata": {},
   "outputs": [
    {
     "ename": "TypeError",
     "evalue": "default_collate: batch must contain tensors, numpy arrays, numbers, dicts or lists; found <class 'torch_geometric.data.data.Data'>",
     "output_type": "error",
     "traceback": [
      "\u001b[1;31m---------------------------------------------------------------------------\u001b[0m",
      "\u001b[1;31mTypeError\u001b[0m                                 Traceback (most recent call last)",
      "Cell \u001b[1;32mIn[19], line 15\u001b[0m\n\u001b[0;32m     13\u001b[0m \u001b[39mfor\u001b[39;00m epoch \u001b[39min\u001b[39;00m \u001b[39mrange\u001b[39m(\u001b[39mlen\u001b[39m(dataX)):\n\u001b[0;32m     14\u001b[0m     running_loss \u001b[39m=\u001b[39m \u001b[39m0.0\u001b[39m\n\u001b[1;32m---> 15\u001b[0m     \u001b[39mfor\u001b[39;00m i, data \u001b[39min\u001b[39;00m \u001b[39menumerate\u001b[39m(train_loader, \u001b[39m0\u001b[39m):\n\u001b[0;32m     16\u001b[0m         optimizer\u001b[39m.\u001b[39mzero_grad()\n\u001b[0;32m     17\u001b[0m         outputs \u001b[39m=\u001b[39m model(data)\n",
      "File \u001b[1;32mc:\\Users\\eliasak\\OneDrive - NTNU\\Master thesis\\04_Elias\\ML1\\masters2023\\.venv\\Lib\\site-packages\\torch\\utils\\data\\dataloader.py:634\u001b[0m, in \u001b[0;36m_BaseDataLoaderIter.__next__\u001b[1;34m(self)\u001b[0m\n\u001b[0;32m    631\u001b[0m \u001b[39mif\u001b[39;00m \u001b[39mself\u001b[39m\u001b[39m.\u001b[39m_sampler_iter \u001b[39mis\u001b[39;00m \u001b[39mNone\u001b[39;00m:\n\u001b[0;32m    632\u001b[0m     \u001b[39m# TODO(https://github.com/pytorch/pytorch/issues/76750)\u001b[39;00m\n\u001b[0;32m    633\u001b[0m     \u001b[39mself\u001b[39m\u001b[39m.\u001b[39m_reset()  \u001b[39m# type: ignore[call-arg]\u001b[39;00m\n\u001b[1;32m--> 634\u001b[0m data \u001b[39m=\u001b[39m \u001b[39mself\u001b[39;49m\u001b[39m.\u001b[39;49m_next_data()\n\u001b[0;32m    635\u001b[0m \u001b[39mself\u001b[39m\u001b[39m.\u001b[39m_num_yielded \u001b[39m+\u001b[39m\u001b[39m=\u001b[39m \u001b[39m1\u001b[39m\n\u001b[0;32m    636\u001b[0m \u001b[39mif\u001b[39;00m \u001b[39mself\u001b[39m\u001b[39m.\u001b[39m_dataset_kind \u001b[39m==\u001b[39m _DatasetKind\u001b[39m.\u001b[39mIterable \u001b[39mand\u001b[39;00m \\\n\u001b[0;32m    637\u001b[0m         \u001b[39mself\u001b[39m\u001b[39m.\u001b[39m_IterableDataset_len_called \u001b[39mis\u001b[39;00m \u001b[39mnot\u001b[39;00m \u001b[39mNone\u001b[39;00m \u001b[39mand\u001b[39;00m \\\n\u001b[0;32m    638\u001b[0m         \u001b[39mself\u001b[39m\u001b[39m.\u001b[39m_num_yielded \u001b[39m>\u001b[39m \u001b[39mself\u001b[39m\u001b[39m.\u001b[39m_IterableDataset_len_called:\n",
      "File \u001b[1;32mc:\\Users\\eliasak\\OneDrive - NTNU\\Master thesis\\04_Elias\\ML1\\masters2023\\.venv\\Lib\\site-packages\\torch\\utils\\data\\dataloader.py:678\u001b[0m, in \u001b[0;36m_SingleProcessDataLoaderIter._next_data\u001b[1;34m(self)\u001b[0m\n\u001b[0;32m    676\u001b[0m \u001b[39mdef\u001b[39;00m \u001b[39m_next_data\u001b[39m(\u001b[39mself\u001b[39m):\n\u001b[0;32m    677\u001b[0m     index \u001b[39m=\u001b[39m \u001b[39mself\u001b[39m\u001b[39m.\u001b[39m_next_index()  \u001b[39m# may raise StopIteration\u001b[39;00m\n\u001b[1;32m--> 678\u001b[0m     data \u001b[39m=\u001b[39m \u001b[39mself\u001b[39;49m\u001b[39m.\u001b[39;49m_dataset_fetcher\u001b[39m.\u001b[39;49mfetch(index)  \u001b[39m# may raise StopIteration\u001b[39;00m\n\u001b[0;32m    679\u001b[0m     \u001b[39mif\u001b[39;00m \u001b[39mself\u001b[39m\u001b[39m.\u001b[39m_pin_memory:\n\u001b[0;32m    680\u001b[0m         data \u001b[39m=\u001b[39m _utils\u001b[39m.\u001b[39mpin_memory\u001b[39m.\u001b[39mpin_memory(data, \u001b[39mself\u001b[39m\u001b[39m.\u001b[39m_pin_memory_device)\n",
      "File \u001b[1;32mc:\\Users\\eliasak\\OneDrive - NTNU\\Master thesis\\04_Elias\\ML1\\masters2023\\.venv\\Lib\\site-packages\\torch\\utils\\data\\_utils\\fetch.py:54\u001b[0m, in \u001b[0;36m_MapDatasetFetcher.fetch\u001b[1;34m(self, possibly_batched_index)\u001b[0m\n\u001b[0;32m     52\u001b[0m \u001b[39melse\u001b[39;00m:\n\u001b[0;32m     53\u001b[0m     data \u001b[39m=\u001b[39m \u001b[39mself\u001b[39m\u001b[39m.\u001b[39mdataset[possibly_batched_index]\n\u001b[1;32m---> 54\u001b[0m \u001b[39mreturn\u001b[39;00m \u001b[39mself\u001b[39;49m\u001b[39m.\u001b[39;49mcollate_fn(data)\n",
      "File \u001b[1;32mc:\\Users\\eliasak\\OneDrive - NTNU\\Master thesis\\04_Elias\\ML1\\masters2023\\.venv\\Lib\\site-packages\\torch\\utils\\data\\_utils\\collate.py:264\u001b[0m, in \u001b[0;36mdefault_collate\u001b[1;34m(batch)\u001b[0m\n\u001b[0;32m    203\u001b[0m \u001b[39mdef\u001b[39;00m \u001b[39mdefault_collate\u001b[39m(batch):\n\u001b[0;32m    204\u001b[0m \u001b[39m    \u001b[39m\u001b[39mr\u001b[39m\u001b[39m\"\"\"\u001b[39;00m\n\u001b[0;32m    205\u001b[0m \u001b[39m        Function that takes in a batch of data and puts the elements within the batch\u001b[39;00m\n\u001b[0;32m    206\u001b[0m \u001b[39m        into a tensor with an additional outer dimension - batch size. The exact output type can be\u001b[39;00m\n\u001b[1;32m   (...)\u001b[0m\n\u001b[0;32m    262\u001b[0m \u001b[39m            >>> default_collate(batch)  # Handle `CustomType` automatically\u001b[39;00m\n\u001b[0;32m    263\u001b[0m \u001b[39m    \"\"\"\u001b[39;00m\n\u001b[1;32m--> 264\u001b[0m     \u001b[39mreturn\u001b[39;00m collate(batch, collate_fn_map\u001b[39m=\u001b[39;49mdefault_collate_fn_map)\n",
      "File \u001b[1;32mc:\\Users\\eliasak\\OneDrive - NTNU\\Master thesis\\04_Elias\\ML1\\masters2023\\.venv\\Lib\\site-packages\\torch\\utils\\data\\_utils\\collate.py:150\u001b[0m, in \u001b[0;36mcollate\u001b[1;34m(batch, collate_fn_map)\u001b[0m\n\u001b[0;32m    146\u001b[0m         \u001b[39mexcept\u001b[39;00m \u001b[39mTypeError\u001b[39;00m:\n\u001b[0;32m    147\u001b[0m             \u001b[39m# The sequence type may not support `__init__(iterable)` (e.g., `range`).\u001b[39;00m\n\u001b[0;32m    148\u001b[0m             \u001b[39mreturn\u001b[39;00m [collate(samples, collate_fn_map\u001b[39m=\u001b[39mcollate_fn_map) \u001b[39mfor\u001b[39;00m samples \u001b[39min\u001b[39;00m transposed]\n\u001b[1;32m--> 150\u001b[0m \u001b[39mraise\u001b[39;00m \u001b[39mTypeError\u001b[39;00m(default_collate_err_msg_format\u001b[39m.\u001b[39mformat(elem_type))\n",
      "\u001b[1;31mTypeError\u001b[0m: default_collate: batch must contain tensors, numpy arrays, numbers, dicts or lists; found <class 'torch_geometric.data.data.Data'>"
     ]
    }
   ],
   "source": [
    "import torch.optim as optim\n",
    "from torch_geometric.data import DataLoader\n",
    "from torch.nn import MSELoss\n",
    "\n",
    "# Define model\n",
    "model = GNN()\n",
    "\n",
    "# Define loss function and optimizer\n",
    "criterion = MSELoss()\n",
    "optimizer = optim.Adam(model.parameters(), lr=0.01)\n",
    "\n",
    "# Train the model\n",
    "for epoch in range(len(dataX)):\n",
    "    running_loss = 0.0\n",
    "    for i, data in enumerate(train_loader, 0):\n",
    "        optimizer.zero_grad()\n",
    "        outputs = model(data)\n",
    "        \n",
    "        loss = criterion(outputs, data.y)\n",
    "        loss.backward()\n",
    "        optimizer.step()\n",
    "        running_loss += loss.item()\n",
    "    print(\"Epoch %d, loss: %.3f\" % (epoch+1, running_loss / len(train_loader)))\n",
    "    \n",
    "# Evaluate the model\n",
    "total_loss = 0.0\n",
    "for i, data in enumerate(test_loader, 0):\n",
    "    outputs = model(data)\n",
    "    loss = criterion(outputs, data.y)\n",
    "    total_loss += loss.item()\n",
    "print(\"Test loss: %.3f\" % (total_loss / len(test_loader)))\n",
    "\n",
    "\n"
   ]
  }
 ],
 "metadata": {
  "kernelspec": {
   "display_name": "Python 3",
   "language": "python",
   "name": "python3"
  },
  "language_info": {
   "codemirror_mode": {
    "name": "ipython",
    "version": 3
   },
   "file_extension": ".py",
   "mimetype": "text/x-python",
   "name": "python",
   "nbconvert_exporter": "python",
   "pygments_lexer": "ipython3",
   "version": "3.11.0"
  },
  "orig_nbformat": 4
 },
 "nbformat": 4,
 "nbformat_minor": 2
}
