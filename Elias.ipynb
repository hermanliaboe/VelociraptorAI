{
 "cells": [
  {
   "attachments": {},
   "cell_type": "markdown",
   "metadata": {},
   "source": [
    "#Run this before starting\n",
    "!python -c \"import torch; print(torch.__version__)\"\n",
    "!python -c \"import torch; print(torch.version.cuda)\"\n"
   ]
  },
  {
   "cell_type": "code",
   "execution_count": 1,
   "metadata": {},
   "outputs": [
    {
     "name": "stdout",
     "output_type": "stream",
     "text": [
      "2.0.0+cpu\n",
      "None\n"
     ]
    }
   ],
   "source": [
    "!python -c \"import torch; print(torch.__version__)\"\n",
    "!python -c \"import torch; print(torch.version.cuda)\""
   ]
  },
  {
   "cell_type": "code",
   "execution_count": 9,
   "metadata": {},
   "outputs": [],
   "source": [
    "import torch\n",
    "from torch.nn import ModuleList, Sequential, Linear, ReLU, MSELoss\n",
    "from torch_geometric.nn import MessagePassing\n",
    "from torch_geometric.utils import add_self_loops, degree\n",
    "from torch_geometric.data import DataLoader\n",
    "from torch_geometric.data import Data\n",
    "from typing import Optional"
   ]
  },
  {
   "cell_type": "code",
   "execution_count": 10,
   "metadata": {},
   "outputs": [],
   "source": [
    "#efining a PyTorch module that represents a single graph convolution layer:\n",
    "class GraphConvolution(MessagePassing):\n",
    "    def __init__(self, in_channels, out_channels, num_edge_features):\n",
    "        super(GraphConvolution, self).__init__(aggr='add')\n",
    "        self.lin = Linear(in_channels + num_edge_features, out_channels)\n",
    "\n",
    "    def forward(self, x, edge_index, edge_attr):\n",
    "        edge_index, edge_attr = add_self_loops(edge_index, edge_attr, num_nodes=x.size(0))\n",
    "        x = self.lin(torch.cat([x, edge_attr], dim=1))\n",
    "        return self.propagate(edge_index, x=x)\n",
    "\n",
    "    def message(self, x_j):\n",
    "        return x_j"
   ]
  },
  {
   "cell_type": "code",
   "execution_count": 11,
   "metadata": {},
   "outputs": [],
   "source": [
    "class FeaStNet(torch.nn.Module):\n",
    "   class FeaStNet(torch.nn.Module):\n",
    "    def __init__(self, num_node_features, num_edge_features, hidden_channels, num_layers, num_classes):\n",
    "        super(FeaStNet, self).__init__()\n",
    "\n",
    "        self.num_layers = num_layers\n",
    "        self.convs = ModuleList()\n",
    "\n",
    "        # input layer\n",
    "        self.convs.append(GraphConvolution(num_node_features, hidden_channels, num_edge_features))\n",
    "\n",
    "        # hidden layers\n",
    "        for i in range(num_layers - 2):\n",
    "            self.convs.append(GraphConvolution(hidden_channels, hidden_channels, num_edge_features))\n",
    "\n",
    "        # output layer\n",
    "        self.convs.append(GraphConvolution(hidden_channels, num_classes, num_edge_features))\n",
    "\n",
    "    def forward(self, x, edge_index, edge_attr):\n",
    "        for i in range(self.num_layers):\n",
    "            x = self.convs[i](x, edge_index, edge_attr)\n",
    "            if i != self.num_layers - 1:\n",
    "                x = ReLU()(x)\n",
    "        return x\n",
    "\n",
    "def get_data_loaders():\n",
    "    # Here, you would define and return your train, validation, and test data loaders\n",
    "    train_data = [Data(x=torch.randn(3), edge_index=torch.tensor([[0, 1], [1, 2]]), edge_attr=torch.randn(2, 1), y=torch.randn(1))]\n",
    "    train_loader = DataLoader(train_data, batch_size=1, shuffle=True)\n",
    "\n",
    "    val_data = [Data(x=torch.randn(3), edge_index=torch.tensor([[0, 1], [1, 2]]), edge_attr=torch.randn(2, 1), y=torch.randn(1))]\n",
    "    val_loader = DataLoader(val_data, batch_size=1, shuffle=False)\n",
    "\n",
    "    test_data = [Data(x=torch.randn(3), edge_index=torch.tensor([[0, 1], [1, 2]]), edge_attr=torch.randn(2, 1), y=torch.randn(1))]\n",
    "    test_loader = DataLoader(test_data, batch_size=1, shuffle=False)\n",
    "\n",
    "    return train_loader, val_loader, test_loader\n",
    "\n",
    "def train(model, loader, criterion, optimizer):\n",
    "    model.train()\n",
    "\n",
    "    loss = 0\n",
    "    for data in loader:\n",
    "        optimizer.zero_grad()\n",
    "        out = model(data.x, data.edge_index, data.edge_attr)\n",
    "        loss = criterion(out, data.y)\n",
    "        loss.backward()\n",
    "        optimizer.step()\n",
    "\n",
    "    return loss.item()\n",
    "\n",
    "def evaluate(model, loader, criterion):\n",
    "    model.eval()\n",
    "\n",
    "    loss = 0\n",
    "    with torch.no"
   ]
  },
  {
   "cell_type": "code",
   "execution_count": 7,
   "metadata": {},
   "outputs": [],
   "source": [
    "# Load data and preprocess it into PyTorch Geometric Data objects\n",
    "train_data, test_data = get_data_loaders()\n",
    "\n"
   ]
  },
  {
   "cell_type": "code",
   "execution_count": 4,
   "metadata": {},
   "outputs": [
    {
     "data": {
      "text/plain": [
       "'\"\\ndef __init__(self, num_node_features, num_edge_features, hidden_channels, num_layers, num_classes)\\ninitializes the FeaStNet object with the specified number of node and edge features, hidden channels, number of layers, and number of classes.\\n\\ndef forward(self, x, edge_index, edge_attr)\\nperforms a forward pass through the FeaStNet model, taking in node features x, edge indices edge_index, and edge attributes edge_attr. \\nIt then applies multiple graph convolutional layers to the input and returns the final output.\\n\\n'"
      ]
     },
     "execution_count": 4,
     "metadata": {},
     "output_type": "execute_result"
    }
   ],
   "source": [
    "# Define loss function and optimizer\n",
    "criterion = nn.MSELoss()\n",
    "optimizer = optim.Adam(model.parameters(), lr=0.01)\n",
    "\n",
    "# Train the model\n",
    "for epoch in range(num_epochs):\n",
    "    model.train()\n",
    "    for data in train_data:\n",
    "        optimizer.zero_grad()\n",
    "        output = model(data)\n",
    "        loss = criterion(output, data.y)\n",
    "        loss.backward()\n",
    "        optimizer.step()\n",
    "\n",
    "# Evaluate the model\n",
    "model.eval()\n",
    "with torch.no_grad():\n",
    "    for data in test_data:\n",
    "        output = model(data)\n",
    "        predictions = output.argmax(dim=1)\n",
    "        accuracy = (predictions == data.y).sum().item() / len(data.y)\n",
    "        print(f\"Accuracy: {accuracy}\")\n"
   ]
  },
  {
   "cell_type": "code",
   "execution_count": 8,
   "metadata": {},
   "outputs": [
    {
     "ename": "NameError",
     "evalue": "name 'FeaStNet' is not defined",
     "output_type": "error",
     "traceback": [
      "\u001b[1;31m---------------------------------------------------------------------------\u001b[0m",
      "\u001b[1;31mNameError\u001b[0m                                 Traceback (most recent call last)",
      "Cell \u001b[1;32mIn[8], line 2\u001b[0m\n\u001b[0;32m      1\u001b[0m \u001b[39m#Instantiate the model, you can create a FeaStNet object and specify the relevant hyperparameters:\u001b[39;00m\n\u001b[1;32m----> 2\u001b[0m model \u001b[39m=\u001b[39m FeaStNet(num_node_features\u001b[39m=\u001b[39m\u001b[39m3\u001b[39m, num_edge_features\u001b[39m=\u001b[39m\u001b[39m1\u001b[39m, hidden_channels\u001b[39m=\u001b[39m\u001b[39m16\u001b[39m, num_layers\u001b[39m=\u001b[39m\u001b[39m3\u001b[39m, num_classes\u001b[39m=\u001b[39m\u001b[39m1\u001b[39m)\n\u001b[0;32m      4\u001b[0m \u001b[39m#For the loss function and optimizer, you can use the MSELoss and Adam classes provided by PyTorch:\u001b[39;00m\n\u001b[0;32m      5\u001b[0m criterion \u001b[39m=\u001b[39m torch\u001b[39m.\u001b[39mnn\u001b[39m.\u001b[39mMSELoss()\n",
      "\u001b[1;31mNameError\u001b[0m: name 'FeaStNet' is not defined"
     ]
    }
   ],
   "source": [
    "#Instantiate the model, you can create a FeaStNet object and specify the relevant hyperparameters:\n",
    "model = FeaStNet(num_node_features=3, num_edge_features=1, hidden_channels=16, num_layers=3, num_classes=1)\n",
    "\n",
    "#For the loss function and optimizer, you can use the MSELoss and Adam classes provided by PyTorch:\n",
    "criterion = torch.nn.MSELoss()\n",
    "optimizer = torch.optim.Adam(model.parameters(), lr=0.01)\n",
    "\n"
   ]
  },
  {
   "cell_type": "code",
   "execution_count": null,
   "metadata": {},
   "outputs": [],
   "source": [
    "\n"
   ]
  },
  {
   "cell_type": "code",
   "execution_count": 3,
   "metadata": {},
   "outputs": [
    {
     "name": "stdout",
     "output_type": "stream",
     "text": [
      "False\n"
     ]
    }
   ],
   "source": []
  }
 ],
 "metadata": {
  "kernelspec": {
   "display_name": ".venv",
   "language": "python",
   "name": "python3"
  },
  "language_info": {
   "codemirror_mode": {
    "name": "ipython",
    "version": 3
   },
   "file_extension": ".py",
   "mimetype": "text/x-python",
   "name": "python",
   "nbconvert_exporter": "python",
   "pygments_lexer": "ipython3",
   "version": "3.11.0"
  },
  "orig_nbformat": 4
 },
 "nbformat": 4,
 "nbformat_minor": 2
}
